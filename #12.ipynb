{
 "cells": [
  {
   "cell_type": "code",
   "execution_count": 1,
   "metadata": {
    "collapsed": true
   },
   "outputs": [],
   "source": [
    "from math import sqrt\n",
    "def dist(p1, p2):\n",
    "    return sqrt((p1[0] - p2[0]) ** 2 + (p1[1] - p2[1]) ** 2)"
   ]
  },
  {
   "cell_type": "code",
   "execution_count": 2,
   "metadata": {
    "collapsed": true
   },
   "outputs": [],
   "source": [
    "def onsameline(p1, p2, p3):\n",
    "    return p1[0] * (p2[1] - p3[1]) + p2[0] * (p3[1] - p1[1]) + p3[0] * (p1[1] - p2[1]) == 0"
   ]
  },
  {
   "cell_type": "code",
   "execution_count": 3,
   "metadata": {
    "collapsed": true
   },
   "outputs": [],
   "source": [
    "def check(max_num, points, left):\n",
    "    if left == 0:\n",
    "        return points\n",
    "    for x in range(max_num+1):\n",
    "        for y in range(max_num+1):\n",
    "            allmatch = True\n",
    "            for p in points:\n",
    "                matching = True\n",
    "                if p == (x, y):\n",
    "                    matching = False\n",
    "                    allmatch = False\n",
    "                    break\n",
    "                holy = True\n",
    "                for pp in points:\n",
    "                    if p != pp and onsameline((x,y), p, pp):\n",
    "                        holy = False\n",
    "                        break\n",
    "                if not holy:\n",
    "                    matching = False\n",
    "                    allmatch = False\n",
    "                elif not dist(p, (x, y)).is_integer():\n",
    "                    matching = False\n",
    "                    allmatch = False\n",
    "                    break\n",
    "            if allmatch:\n",
    "                c = check(max_num, points + [(x, y)], left - 1)\n",
    "                if not c is None:\n",
    "                    return c"
   ]
  },
  {
   "cell_type": "code",
   "execution_count": 4,
   "metadata": {},
   "outputs": [
    {
     "data": {
      "text/plain": [
       "[(10, 10), (1, 22), (10, 34), (17, 10), (17, 34), (26, 22)]"
      ]
     },
     "execution_count": 4,
     "metadata": {},
     "output_type": "execute_result"
    }
   ],
   "source": [
    "check(50, [(10, 10)], 5)"
   ]
  }
 ],
 "metadata": {
  "kernelspec": {
   "display_name": "Python 3",
   "language": "python",
   "name": "python3"
  },
  "language_info": {
   "codemirror_mode": {
    "name": "ipython",
    "version": 3
   },
   "file_extension": ".py",
   "mimetype": "text/x-python",
   "name": "python",
   "nbconvert_exporter": "python",
   "pygments_lexer": "ipython3",
   "version": "3.6.3"
  }
 },
 "nbformat": 4,
 "nbformat_minor": 2
}
